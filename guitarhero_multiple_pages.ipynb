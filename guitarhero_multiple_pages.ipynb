{
 "cells": [
  {
   "cell_type": "code",
   "execution_count": 1,
   "id": "a62049ea",
   "metadata": {},
   "outputs": [],
   "source": [
    "from bs4 import BeautifulSoup\n",
    "import pandas as pd\n",
    "import requests"
   ]
  },
  {
   "cell_type": "code",
   "execution_count": 2,
   "id": "60c248d9",
   "metadata": {},
   "outputs": [
    {
     "data": {
      "text/plain": [
       "['https://en.wikipedia.org/wiki/List_of_songs_in_Guitar_Hero',\n",
       " 'https://en.wikipedia.org/wiki/List_of_songs_in_Guitar_Hero_II',\n",
       " 'https://en.wikipedia.org/wiki/List_of_songs_in_Guitar_Hero_III:_Legends_of_Rock',\n",
       " 'https://en.wikipedia.org/wiki/List_of_songs_in_Guitar_Hero_World_Tour',\n",
       " 'https://en.wikipedia.org/wiki/List_of_songs_in_Guitar_Hero_5',\n",
       " 'https://en.wikipedia.org/wiki/List_of_songs_in_Guitar_Hero:_Warriors_of_Rock',\n",
       " 'https://en.wikipedia.org/wiki/List_of_songs_in_Guitar_Hero:_Aerosmith',\n",
       " 'https://en.wikipedia.org/wiki/List_of_songs_in_Guitar_Hero:_Metallica',\n",
       " 'https://en.wikipedia.org/wiki/List_of_songs_in_Guitar_Hero:_Van_Halen',\n",
       " 'https://en.wikipedia.org/wiki/List_of_songs_in_Guitar_Hero_Encore:_Rocks_the_80s']"
      ]
     },
     "execution_count": 2,
     "metadata": {},
     "output_type": "execute_result"
    }
   ],
   "source": [
    "r = requests.get('https://en.wikipedia.org/wiki/Lists_of_songs')\n",
    "soup = BeautifulSoup(r.content, 'html.parser')\n",
    "\n",
    "def filter_function(tag):\n",
    "    return tag.has_attr('title') and tag['title'].startswith(\"List of songs in Guitar Hero\")\n",
    "\n",
    "links = soup.find_all(filter_function)\n",
    "\n",
    "base_url = \"https://en.wikipedia.org\"\n",
    "\n",
    "links_list = [base_url + link['href'] for link in links]\n",
    "\n",
    "delete_6th = links_list.pop(6)\n",
    "links_list\n"
   ]
  },
  {
   "cell_type": "code",
   "execution_count": 4,
   "id": "71346dae",
   "metadata": {},
   "outputs": [],
   "source": [
    "def song_artist_extract(url):\n",
    "    r = requests.get(url)\n",
    "    soup = BeautifulSoup(r.content, 'html.parser')\n",
    "    \n",
    "    table = soup.find('table', attrs={'class': \"wikitable\"})\n",
    "    rows = table.find_all('tr')\n",
    "    \n",
    "    songs = []\n",
    "    artists = []\n",
    "\n",
    "    for row in rows[1:]:\n",
    "        cells = row.find_all('td')\n",
    "        if len(cells) > 2:\n",
    "            song_tag = cells[1].find('a')\n",
    "            artist_tag = cells[2].find('a')\n",
    "            \n",
    "            if song_tag:\n",
    "                songs.append(song_tag.text)\n",
    "            if artist_tag:\n",
    "                artists.append(artist_tag.text)\n",
    "                \n",
    "    return songs, artists"
   ]
  },
  {
   "cell_type": "code",
   "execution_count": 5,
   "id": "bd803f86",
   "metadata": {},
   "outputs": [
    {
     "name": "stdout",
     "output_type": "stream",
     "text": [
      "['Ace of Spades', 'Bark at the Moon', 'Cochise', 'Cowboys from Hell', 'Crossroads', 'Fat Lip', 'Frankenstein', 'Godzilla', 'Heart Full of Black', 'Hey You', 'Higher Ground', \"I Love Rock 'n Roll\", 'I Wanna Be Sedated', 'Infected', 'Iron Man', 'Killer Queen', 'More Than a Feeling', 'No One Knows', 'Sharp Dressed Man', 'Smoke on the Water', 'Spanish Castle Magic', 'Stellar', 'Symphony of Destruction', 'Take it Off', 'Take Me Out', 'Texas Flood', \"Thunder Kiss '65\", 'Unsung', \"You've Got Another Thing Comin'\", 'Ziggy Stardust', 'Bad Reputation', 'Beast and the Harlot', 'Billion Dollar Babies', \"Can't You Hear Me Knockin'\", 'Carry Me Home', 'Carry On Wayward Son', 'Cherry Pie', 'Crazy on You', 'Dead!', 'Free Bird', 'Freya', 'Girlfriend', 'Hangar 18', 'Heart-Shaped Box', 'Hush', 'Institutionalized', 'Jessica', 'John the Fisherman', 'Killing in the Name', 'Laid to Rest', 'Last Child', 'Life Wasted', 'Madhouse', 'Message in a Bottle', 'Misirlou', 'Monkey Wrench', 'Mother', 'Possum Kingdom', 'Psychobilly Freakout', 'Rock and Roll, Hoochie Koo', 'Rock This Town', 'Salvation', 'Search and Destroy', 'Shout at the Devil', 'Stop', 'Strutter', 'Surrender', \"Sweet Child o' Mine\", 'Tattooed Love Boys', 'Them Bones', \"Tonight I'm Gonna Rock You Tonight\", \"Trippin' on a Hole in a Paper Heart\", 'The Trooper', 'War Pigs', 'Who Was in My Room Last Night?', 'Woman', 'You Really Got Me', 'YYZ', \"3's & 7's\", 'Anarchy in the U.K.', 'Barracuda', 'Before I Forget', 'Black Magic Woman', 'Black Sunshine', 'Bulls on Parade', 'Cherub Rock', 'Cities on Flame with Rock and Roll', 'Cliffs of Dover', 'Cult of Personality', 'The Devil Went Down to Georgia', 'Even Flow', 'Helicopter', 'Hit Me with Your Best Shot', 'Holiday in Cambodia', 'Knights of Cydonia', 'Kool Thing', 'La Grange', 'Lay Down', 'The Metal', 'Miss Murder', 'Mississippi Queen', 'Monsters', 'My Name Is Jonas', 'The Number of the Beast', 'One', 'Paint It Black', 'Paranoid', 'Pride and Joy', 'Raining Blood', 'Reptilia', 'Rock and Roll All Nite', 'Rock You Like a Hurricane', 'Sabotage', 'Same Old Song and Dance', \"School's Out\", 'The Seeker', 'Slow Ride', 'Story of My Life', 'Stricken', 'Suck My Kiss', 'Sunshine of Your Love', 'Talk Dirty to Me', 'Welcome to the Jungle', 'When You Were Young', 'About a Girl', 'Aggro', 'American Woman', 'Antisocial', 'Are You Gonna Go My Way', 'Assassin', 'B.Y.O.B.', 'Band on the Run', 'Beat It', 'Beautiful Disaster', 'Crazy Train', 'Dammit', 'Demolition Man', 'Do It Again', 'Everlong', 'Eye of the Tiger', 'Feel the Pain', 'Float On', 'Freak on a Leash', 'Go Your Own Way', 'Good God', 'Hail to the Freaks', 'Heartbreaker', 'Hey Man, Nice Shot', 'Hollywood Nights', 'Hot for Teacher', 'Hotel California', 'The Joker', 'Kick Out the Jams', 'The Kill', \"L'Via L'Viaquez\", 'La Bamba', 'Lazy Eye', \"Livin' on a Prayer\", 'Love Me Two Times', 'Love Removal Machine', 'Love Spreads', 'The Middle', 'Misery Business', 'Monsoon', 'Mountain Song', 'Mr. Crowley', 'Never Too Late', 'No Sleep Till Brooklyn', 'Obstacle 1', 'On the Road Again', 'One Armed Scissor', 'The One I Love', 'One Way or Another', 'Our Truth', 'Overkill', 'Parabola', 'Pretty Vacant', 'Prisoner of Society', 'Pull Me Under', 'Purple Haze', \"Ramblin' Man\", 'Re-Education (Through Labor)', 'Rebel Yell', 'Rooftops (A Liberation Broadcast)', 'Santeria', 'Satch Boogie', 'Schism', 'Scream Aim Fire', 'Shiver', 'Some Might Say', '\"Soul Doubt\"', 'Spiderwebs', 'Stillborn', 'Stranglehold', 'Sweet Home Alabama', 'Today', 'Too Much, Too Young, Too Fast', 'Toy Boy', 'Trapped Under Ice', 'Up Around the Bend', 'Vicarious', 'VinterNoll2', 'Weapon of Choice', \"What I've Done\", 'The Wind Cries Mary', '2 Minutes to Midnight', '20th Century Boy', '21st Century Schizoid Man', 'A-Punk', 'All Along the Watchtower', 'All The Pretty Faces', 'American Girl', 'Back Round', 'Bleed American', 'Blue Day', 'Blue Orchid', 'Brianstorm', 'Bring the Noise 20XX', 'Bullet with Butterfly Wings', 'Cigarettes, Wedding Bands', 'Comedown', 'Dancing with Myself', 'Deadbolt', 'Demon(s)', 'Disconnected', 'Done with Everything, Die for Nothing', 'Do You Feel Like We Do?', 'Du Hast', 'Ex-Girlfriend', 'Fame', 'Feel Good Inc.', 'Gamma Ray', 'Gratitude', 'Hungry Like the Wolf', 'Hurts So Good', 'Incinerate', 'In My Place', 'In the Meantime', 'Jailbreak', 'Judith', 'Kryptonite', 'L.A.', 'Lithium', 'Lonely Is the Night', 'Looks That Kill', 'Lust for Life', 'Maiden, Mother & Crone', 'Make It wit Chu', 'Medicate', 'Mirror People', 'Nearly Lost You', 'Never Miss a Beat', 'No One to Depend On', 'One Big Holiday', 'Only Happy When It Rains', 'Play That Funky Music', 'Plug In Baby', 'Ring of Fire', 'The Rock Show', \"Runnin' Down a Dream\", \"Saturday Night's Alright for Fighting\", '+', 'Send a Little Love Token', 'Seven', 'Sex on Fire', 'Shout It Out Loud', 'Six Days a Week', 'Smells Like Teen Spirit', 'Sneak Out', 'So Lonely', 'Song 2', 'Sowing Season (Yeah)', 'The Spirit of Radio', 'Steady, As She Goes', 'Streamline Woman', 'Sultans of Swing', 'Superstition', 'Sweating Bullets', 'Sympathy for the Devil', 'They Say', 'Under Pressure', 'Wannabe in L.A.', \"We're an American Band\", 'What I Got', 'Why Bother?', 'Wolf Like Me', 'Woman From Tokyo', 'You Give Love a Bad Name', 'Younk Funk', 'Again', 'Aqualung', 'Bat Country', 'Been Caught Stealing', 'Black Rain', 'Black Widow of La Porte', 'Bleed It Out', 'Bloodlines', 'Bodies', 'Bohemian Rhapsody', 'Burn', \"Burnin' for You\", 'Call Me the Breeze', 'Calling', 'Chemical Warfare', 'Cherry Bomb', 'Children of the Grave', \"Cryin'\", 'Dance, Dance', 'Dancing Through Sunday', 'Deadfall', 'Fascination Street', 'The Feel Good Drag', 'Feels Like the First Time', 'Fortunate Son', 'Free Ride', 'Fury of the Storm', 'Get Free', 'Ghost', 'Graduate', 'Hard to See', 'Holy Wars... The Punishment Due', 'How You Remind Me', 'I Know What I Am', \"I'm Broken\", \"I'm Not Okay (I Promise)\", 'If You Want Peace... Prepare for War', 'Indians', 'Interstate Love Song', \"It's Only Another Parsec...\", 'Jet City Woman', 'Lasso', 'Listen to Her Heart', 'Losing My Religion', 'Love Gun', 'Lunatic Fringe', 'Machinehead', 'Modern Day Cowboy', 'Money for Nothing', 'Motivation', 'Move It On Over', 'Nemesis', 'No More Mr. Nice Guy', 'No Way Back', 'The Outsider', 'Paranoid', 'Pour Some Sugar on Me', 'Psychosocial', 'Ravenous', 'Live', 'Renegade', '(You Can Still) Rock in America', \"Rockin' in the Free World\", 'Savior', 'Scumbag Blues', 'Self Esteem', 'Setting Fire to Sleeping Giants', 'Seven Nation Army', 'Sharp Dressed Man', 'Slow Hands', 'Speeding (Vault Version)', 'Stray Cat Blues', 'Sudden Death', 'Suffocated', 'Theme from Spiderman', \"There's No Secrets This Year\", 'This Day We Fight!', 'Tick Tick Boom', 'Ties That Bind', 'Tones of Home', '2112', '2112', '2112', '2112', '2112', '2112', '2112', 'Unskinny Bop', 'Uprising', 'Waidmanns Heil', \"We're Not Gonna Take It\", 'What Do I Get?', 'Wish', 'All Day and All of the Night', 'All the Young Dudes', 'Always on the Run', 'Back in the Saddle', 'b', 'Cat Scratch Fever', 'Complete Control', 'Draw the Line', 'Dream On', 'Dream Police', 'Guitar', 'Hard to Handle', 'I Hate Myself for Loving You', 'King of Rock', \"Livin' on the Edge\", 'Love in an Elevator', 'Make It', 'Mama Kin', \"Movin' Out\", 'b', \"Nobody's Fault\", 'Personality Crisis', 'Rag Doll', 'Sex Type Thing', 'She Sells Sanctuary', 'Sweet Emotion', 'Toys in the Attic', \"Train Kept A-Rollin'\", 'Walk This Way', 'Ace of Spades', 'Albatross', 'All Nightmare Long', 'Am I Evil?', '+', '+', '+', 'Blood and Thunder', 'The Boys Are Back in Town', 'Broken, Beat & Scarred', 'Creeping Death', 'Cyanide', 'Demon Cleaner', '+', '+', 'Enter Sandman', '[C]', 'Fade to Black', '+', 'For Whom the Bell Tolls', 'Frantic', 'Fuel', 'Hell Bent for Leather', 'King Nothing', 'Master of Puppets', 'The Memory Remains', 'My Apocalypse', 'No Excuses', 'No Leaf Clover', 'Nothing Else Matters', 'One', '[E]', 'Sad but True', 'Seek & Destroy', '+', 'Stacked Actors', 'Stone Cold Crazy', 'Toxicity', \"Tuesday's Gone\", 'Turn the Page', 'The Unforgiven', '+', '+', 'Wherever I May Roam', 'Whiplash', \"Ain't Talkin' 'Bout Love\", 'And the Cradle Will Rock...', 'Atomic Punk', 'Beautiful Girls', 'Best of You', 'a', '+', 'Dance the Night Away', 'Dope Nose', 'Double Vision', 'The End of Heartache', 'Eruption', 'Everybody Wants Some!!', 'Feel Your Love Tonight', 'First Date', '+', '+', 'Hot for Teacher', \"I'm the One\", 'I Want It All', 'Intruder/(Oh) Pretty Woman', \"Jamie's Cryin'\", 'Jump', 'Little Guitars', '+', 'Mean Street', 'Pain', 'Painkiller', 'Panama', 'Pretty Fly (for a White Guy)', 'Rock and Roll Is Dead', 'Romeo Delight', \"Runnin' with the Devil\", 'Semi-Charmed Life', 'Sick, Sick, Sick', 'So This Is Love?', 'Somebody Get Me a Doctor', \"Space Truckin'\", 'Spanish Fly', \"Stacy's Mom\", 'Unchained', 'White Wedding (Part 1)', 'You Really Got Me', '18 and Life', \"Ain't Nothin' But a Good Time\", 'Ballroom Blitz', 'Balls to the Wall', '(Bang Your Head) Metal Health', 'Bathroom Wall', \"Because, It's Midnite\", 'Caught in a Mosh', 'Electric Eye', 'Heat of the Moment', 'Hold on Loosely', 'Holy Diver', 'I Ran (So Far Away)', 'I Wanna Rock', 'Lonely Is the Night', 'Los Angeles', 'No One Like You', 'Only a Lad', 'Play with Me', 'Police Truck', 'Radar Love', 'Round and Round', 'Seventeen', \"Shakin'\", 'Synchronicity II', 'Turning Japanese', 'The Warrior', 'We Got the Beat', 'What I Like About You', 'Wrathchild']\n",
      "['Motörhead', 'Ozzy Osbourne', 'Audioslave', 'Pantera', 'Cream', 'Sum 41', 'The Edgar Winter Group', 'Blue Öyster Cult', 'Burning Brides', 'The Exies', 'Red Hot Chili Peppers', 'Joan Jett & the Blackhearts', 'Ramones', 'Bad Religion', 'Black Sabbath', 'Queen', 'Boston', 'Queens of the Stone Age', 'ZZ Top', 'Deep Purple', 'The Jimi Hendrix Experience', 'Incubus', 'Megadeth', 'The Donnas', 'Franz Ferdinand', 'Stevie Ray Vaughan', 'White Zombie', 'Helmet', 'Judas Priest', 'David Bowie', 'Thin Lizzy', 'Avenged Sevenfold', 'Alice Cooper', 'The Rolling Stones', 'The Living End', 'Kansas', 'Warrant', 'Heart', 'My Chemical Romance', 'Lynyrd Skynyrd', 'The Sword', 'Matthew Sweet', 'Megadeth', 'Nirvana', 'Deep Purple', 'Suicidal Tendencies', 'The Allman Brothers Band', 'Primus', 'Rage Against the Machine', 'Lamb of God', 'Aerosmith', 'Pearl Jam', 'Anthrax', 'The Police', 'Dick Dale', 'Foo Fighters', 'Danzig', 'Toadies', 'Reverend Horton Heat', 'Rick Derringer', 'Stray Cats', 'Rancid', 'Iggy Pop and the Stooges', 'Mötley Crüe', \"Jane's Addiction\", 'Kiss', 'Cheap Trick', \"Guns N' Roses\", 'The Pretenders', 'Alice in Chains', 'Spinal Tap', 'Stone Temple Pilots', 'Iron Maiden', 'Black Sabbath', 'The Butthole Surfers', 'Wolfmother', 'Van Halen', 'Rush', 'Queens of the Stone Age', 'Sex Pistols', 'Heart', 'Slipknot', 'Santana', 'White Zombie', 'Rage Against the Machine', 'The Smashing Pumpkins', 'Blue Öyster Cult', 'Eric Johnson', 'Living Colour', 'Steve Ouimette', 'Pearl Jam', 'Slash', 'Tom Morello', 'Bloc Party', 'Pat Benatar', 'Dead Kennedys', 'Muse', 'Sonic Youth', 'ZZ Top', 'Priestess', 'Tenacious D', 'AFI', 'Mountain', 'Matchbook Romance', 'Weezer', 'Iron Maiden', 'Metallica', 'The Rolling Stones', 'Black Sabbath', 'Stevie Ray Vaughan', 'Slayer', 'The Strokes', 'Kiss', 'Scorpions', 'Beastie Boys', 'Aerosmith', 'Alice Cooper', 'The Who', 'Foghat', 'Social Distortion', 'Disturbed', 'Red Hot Chili Peppers', 'Cream', 'Poison', \"Guns N' Roses\", 'The Killers', 'Nirvana', 'The Enemy', 'The Guess Who', 'Trust', 'Lenny Kravitz', 'Muse', 'System of a Down', 'Wings', 'Michael Jackson', '311', 'Ozzy Osbourne', 'Blink-182', 'Sting', 'Steely Dan', 'Radio Futura', 'Foo Fighters', 'Survivor', 'Dinosaur Jr.', 'Modest Mouse', 'Korn', 'Fleetwood Mac', 'Anouk', 'Beatsteaks', 'Pat Benatar', 'Filter', 'Bob Seger & The Silver Bullet Band', 'Van Halen', 'Eagles', 'Steve Miller Band', \"MC5's\", 'Thirty Seconds to Mars', 'The Mars Volta', 'Los Lobos', 'Silversun Pickups', 'Bon Jovi', 'The Doors', 'The Cult', 'The Stone Roses', 'Jimmy Eat World', 'Paramore', 'Tokio Hotel', \"Jane's Addiction\", 'Ozzy Osbourne', 'The Answer', 'Beastie Boys', 'Negramaro', 'Interpol', 'Willie Nelson', 'At the Drive-In', 'R.E.M.', 'Blondie', 'Lacuna Coil', 'Motörhead', 'Tool', 'Sex Pistols', 'The Living End', 'Dream Theater', 'The Jimi Hendrix Experience', 'The Allman Brothers Band', 'Rise Against', 'Billy Idol', 'Lostprophets', 'Sublime', 'Joe Satriani', 'Tool', 'Bullet for My Valentine', 'Coldplay', 'Oasis', 'NOFX', 'No Doubt', 'Black Label Society', 'Ted Nugent', 'Lynyrd Skynyrd', 'Ted Nugent', 'The Smashing Pumpkins', 'Airbourne', 'Stuck in the Sound', 'Metallica', 'Creedence Clearwater Revival', 'Tool', 'Kent', 'Black Rebel Motorcycle Club', 'Linkin Park', 'The Jimi Hendrix Experience', 'HushPuppies', 'Zakk Wylde', 'Iron Maiden', 'T. Rex', 'King Crimson', 'Vampire Weekend', 'Bob Dylan', 'The Killers', 'Tom Petty and the Heartbreakers', 'Wolfmother', 'Jimmy Eat World', 'Darker My Love', 'The White Stripes', 'Arctic Monkeys', 'Public Enemy', 'The Smashing Pumpkins', 'Band of Horses', 'Bush', 'Billy Idol', 'Thrice', 'Darkest Hour', 'Face to Face', 'Children of Bodom', 'Peter Frampton', 'Rammstein', 'No Doubt', 'David Bowie', 'Gorillaz', 'Beck', 'Beastie Boys', 'Duran Duran', 'John Mellencamp', 'Sonic Youth', 'Coldplay', 'Spacehog', 'Thin Lizzy', 'A Perfect Circle', '3 Doors Down', 'Elliott Smith', 'Nirvana', 'Billy Squier', 'Mötley Crüe', 'Iggy Pop', 'The Sword', 'Queens of the Stone Age', 'AFI', 'Love and Rockets', 'Screaming Trees', 'Kaiser Chiefs', 'Santana', 'My Morning Jacket', 'Garbage', 'Wild Cherry', 'Muse', 'Johnny Cash', 'Blink-182', 'Tom Petty', 'Elton John', 'Jeff Beck', 'The Duke Spirit', 'Sunny Day Real Estate', 'Kings of Leon', 'Kiss', 'The Bronx', 'Nirvana', 'Rose Hill Drive', 'The Police', 'Blur', 'Brand New', 'Rush', 'The Raconteurs', \"Gov't Mule\", 'Dire Straits', 'Stevie Wonder', 'Megadeth', 'The Rolling Stones', 'Scars on Broadway', 'Queen', 'Eagles of Death Metal', 'Grand Funk Railroad', 'Sublime', 'Weezer', 'TV on the Radio', 'Deep Purple', 'Attack! Attack!', 'Bon Jovi', 'The Derek Trucks Band', 'Flyleaf', 'Jethro Tull', 'Avenged Sevenfold', \"Jane's Addiction\", 'Soundgarden', 'John 5', 'Linkin Park', 'Dethklok', 'Drowning Pool', 'Queen', 'Deep Purple', 'Blue Öyster Cult', 'Lynyrd Skynyrd', 'Strung Out', 'Slayer', 'The Runaways', 'Black Sabbath', 'Aerosmith', 'Fall Out Boy', 'AFI', 'Snot', 'The Cure', 'Anberlin', 'Foreigner', 'Creedence Clearwater Revival', 'The Edgar Winter Group', 'DragonForce', 'The Vines', 'Slash', 'Third Eye Blind', 'Five Finger Death Punch', 'Megadeth', 'Nickelback', 'Band of Skulls', 'Pantera', 'My Chemical Romance', 'Children of Bodom', 'Anthrax', 'Stone Temple Pilots', 'RX Bandits', 'Queensrÿche', 'Phoenix', 'Tom Petty and the Heartbreakers', 'R.E.M.', 'Kiss', 'Red Rider', 'Bush', 'Tesla', 'Dire Straits', 'Sum 41', 'George Thorogood and the Destroyers', 'Arch Enemy', 'Alice Cooper', 'Foo Fighters', 'A Perfect Circle', 'Metallica', 'Def Leppard', 'Slipknot', 'Atreyu', 'Bad Brains', 'Styx', 'Night Ranger', 'Neil Young', 'Rise Against', 'Them Crooked Vultures', 'The Offspring', 'The Dillinger Escape Plan', 'The White Stripes', 'ZZ Top', 'Interpol', 'Steve Vai', 'The Rolling Stones', 'Megadeth', 'Orianthi', 'Ramones', 'Silversun Pickups', 'Megadeth', 'The Hives', 'Alter Bridge', 'Blind Melon', 'Rush', 'Rush', 'Rush', 'Rush', 'Rush', 'Rush', 'Rush', 'Poison', 'Muse', 'Rammstein', 'Twisted Sister', 'Buzzcocks', 'Nine Inch Nails', 'The Kinks', 'Mott the Hoople', 'Lenny Kravitz', 'Aerosmith', 'Aerosmith', 'Aerosmith', 'Ted Nugent', 'The Clash', 'Aerosmith', 'Aerosmith', 'Cheap Trick', 'Joe Perry', 'The Black Crowes', 'Joan Jett', 'Run-D.M.C.', 'Aerosmith', 'Aerosmith', 'Aerosmith', 'Aerosmith', 'Aerosmith', 'Aerosmith', 'Aerosmith', 'New York Dolls', 'Aerosmith', 'Stone Temple Pilots', 'The Cult', 'Aerosmith', 'Aerosmith', 'Aerosmith', 'Aerosmith', 'Aerosmith', 'Motörhead', 'Corrosion of Conformity', 'Metallica', 'Diamond Head', 'Michael Schenker Group', 'Metallica', 'Machine Head', 'The Sword', 'Mastodon', 'Thin Lizzy', 'Metallica', 'Metallica', 'Metallica', 'Kyuss', 'Metallica', 'Metallica', 'Metallica', 'Mercyful Fate', 'Metallica', 'Metallica', 'Metallica', 'Metallica', 'Metallica', 'Judas Priest', 'Metallica', 'Metallica', 'Metallica', 'Metallica', 'Metallica', 'Social Distortion', 'Samhain', 'Metallica', 'Alice in Chains', 'Metallica', 'Metallica', 'Metallica', 'Metallica', 'Metallica', 'Metallica', 'Metallica', 'Foo Fighters', 'Queen', 'Metallica', 'System of a Down', 'Lynyrd Skynyrd', 'Bob Seger and the Silver Bullet Band', 'Metallica', 'Slayer', 'Suicidal Tendencies', 'Metallica', 'Metallica', 'Metallica', 'Van Halen', 'Van Halen', 'Van Halen', 'Van Halen', 'Foo Fighters', 'Van Halen', 'Alter Bridge', 'Van Halen', 'Weezer', 'Foreigner', 'Killswitch Engage', 'Van Halen', 'Van Halen', 'Van Halen', 'Blink-182', 'Van Halen', 'Van Halen', 'Van Halen', 'Van Halen', 'Van Halen', 'Queen', 'Van Halen', 'Van Halen', 'Van Halen', 'Van Halen', 'Van Halen', 'Tenacious D', 'Van Halen', 'Jimmy Eat World', 'Judas Priest', 'Van Halen', 'The Offspring', 'Lenny Kravitz', 'Van Halen', 'Van Halen', 'The Clash', 'Third Eye Blind', 'Queens of the Stone Age', 'Van Halen', 'Van Halen', 'Deep Purple', 'Van Halen', 'Fountains of Wayne', 'Yellowcard', 'Van Halen', 'Billy Idol', 'Van Halen', 'Skid Row', 'Poison', 'Krokus', 'Accept', 'Quiet Riot', 'Faster Pussycat', 'Limozeen', 'Anthrax', 'Judas Priest', 'Asia', '.38 Special', 'Dio', 'A Flock of Seagulls', 'Twisted Sister', 'Billy Squier', 'X', 'Scorpions', 'Oingo Boingo', 'Extreme', 'Dead Kennedys', 'White Lion', 'Ratt', 'Winger', 'Eddie Money', 'The Police', 'The Vapors', 'Scandal', \"The Go-Go's\", 'The Romantics', 'Iron Maiden']\n"
     ]
    }
   ],
   "source": [
    "all_songs = []\n",
    "all_artists = []\n",
    "\n",
    "for link in links_list:\n",
    "    songs, artists = song_artist_extract(link)\n",
    "    all_songs.extend(songs)\n",
    "    all_artists.extend(artists)\n",
    "\n",
    "print(all_songs)\n",
    "print(all_artists)"
   ]
  },
  {
   "cell_type": "code",
   "execution_count": 6,
   "id": "ae3153c7",
   "metadata": {},
   "outputs": [
    {
     "data": {
      "text/html": [
       "<div>\n",
       "<style scoped>\n",
       "    .dataframe tbody tr th:only-of-type {\n",
       "        vertical-align: middle;\n",
       "    }\n",
       "\n",
       "    .dataframe tbody tr th {\n",
       "        vertical-align: top;\n",
       "    }\n",
       "\n",
       "    .dataframe thead th {\n",
       "        text-align: right;\n",
       "    }\n",
       "</style>\n",
       "<table border=\"1\" class=\"dataframe\">\n",
       "  <thead>\n",
       "    <tr style=\"text-align: right;\">\n",
       "      <th></th>\n",
       "      <th>artists</th>\n",
       "      <th>songs</th>\n",
       "    </tr>\n",
       "  </thead>\n",
       "  <tbody>\n",
       "    <tr>\n",
       "      <th>0</th>\n",
       "      <td>Motörhead</td>\n",
       "      <td>Ace of Spades</td>\n",
       "    </tr>\n",
       "    <tr>\n",
       "      <th>1</th>\n",
       "      <td>Ozzy Osbourne</td>\n",
       "      <td>Bark at the Moon</td>\n",
       "    </tr>\n",
       "    <tr>\n",
       "      <th>2</th>\n",
       "      <td>Audioslave</td>\n",
       "      <td>Cochise</td>\n",
       "    </tr>\n",
       "    <tr>\n",
       "      <th>3</th>\n",
       "      <td>Pantera</td>\n",
       "      <td>Cowboys from Hell</td>\n",
       "    </tr>\n",
       "    <tr>\n",
       "      <th>4</th>\n",
       "      <td>Cream</td>\n",
       "      <td>Crossroads</td>\n",
       "    </tr>\n",
       "    <tr>\n",
       "      <th>...</th>\n",
       "      <td>...</td>\n",
       "      <td>...</td>\n",
       "    </tr>\n",
       "    <tr>\n",
       "      <th>524</th>\n",
       "      <td>Quiet Riot</td>\n",
       "      <td>Turning Japanese</td>\n",
       "    </tr>\n",
       "    <tr>\n",
       "      <th>525</th>\n",
       "      <td>Faster Pussycat</td>\n",
       "      <td>The Warrior</td>\n",
       "    </tr>\n",
       "    <tr>\n",
       "      <th>526</th>\n",
       "      <td>Limozeen</td>\n",
       "      <td>We Got the Beat</td>\n",
       "    </tr>\n",
       "    <tr>\n",
       "      <th>527</th>\n",
       "      <td>Anthrax</td>\n",
       "      <td>What I Like About You</td>\n",
       "    </tr>\n",
       "    <tr>\n",
       "      <th>528</th>\n",
       "      <td>Judas Priest</td>\n",
       "      <td>Wrathchild</td>\n",
       "    </tr>\n",
       "  </tbody>\n",
       "</table>\n",
       "<p>529 rows × 2 columns</p>\n",
       "</div>"
      ],
      "text/plain": [
       "             artists                  songs\n",
       "0          Motörhead          Ace of Spades\n",
       "1      Ozzy Osbourne       Bark at the Moon\n",
       "2         Audioslave                Cochise\n",
       "3            Pantera      Cowboys from Hell\n",
       "4              Cream             Crossroads\n",
       "..               ...                    ...\n",
       "524       Quiet Riot       Turning Japanese\n",
       "525  Faster Pussycat            The Warrior\n",
       "526         Limozeen        We Got the Beat\n",
       "527          Anthrax  What I Like About You\n",
       "528     Judas Priest             Wrathchild\n",
       "\n",
       "[529 rows x 2 columns]"
      ]
     },
     "execution_count": 6,
     "metadata": {},
     "output_type": "execute_result"
    }
   ],
   "source": [
    "guitar_hero = zip(all_artists, all_songs)\n",
    "guitar_hero = pd.DataFrame(guitar_hero, columns=[\"artists\", \"songs\"])\n",
    "guitar_hero"
   ]
  },
  {
   "cell_type": "code",
   "execution_count": null,
   "id": "c3a9b659",
   "metadata": {},
   "outputs": [],
   "source": []
  }
 ],
 "metadata": {
  "kernelspec": {
   "display_name": "Python 3",
   "language": "python",
   "name": "python3"
  },
  "language_info": {
   "codemirror_mode": {
    "name": "ipython",
    "version": 3
   },
   "file_extension": ".py",
   "mimetype": "text/x-python",
   "name": "python",
   "nbconvert_exporter": "python",
   "pygments_lexer": "ipython3",
   "version": "3.7.4"
  }
 },
 "nbformat": 4,
 "nbformat_minor": 5
}
