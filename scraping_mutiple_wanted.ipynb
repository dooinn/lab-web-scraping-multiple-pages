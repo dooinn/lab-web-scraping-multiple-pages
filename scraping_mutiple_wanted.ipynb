{
 "cells": [
  {
   "cell_type": "code",
   "execution_count": 1,
   "id": "12810ddf",
   "metadata": {},
   "outputs": [],
   "source": [
    "from bs4 import BeautifulSoup\n",
    "import pandas as pd\n",
    "import requests"
   ]
  },
  {
   "cell_type": "code",
   "execution_count": 2,
   "id": "5c1c1b27",
   "metadata": {},
   "outputs": [
    {
     "data": {
      "text/plain": [
       "200"
      ]
     },
     "execution_count": 2,
     "metadata": {},
     "output_type": "execute_result"
    }
   ],
   "source": [
    "r = requests.get('https://www.fbi.gov/wanted/topten')\n",
    "r.status_code"
   ]
  },
  {
   "cell_type": "code",
   "execution_count": 3,
   "id": "3ba9e935",
   "metadata": {},
   "outputs": [
    {
     "data": {
      "text/plain": [
       "{'Date': 'Thu, 07 Sep 2023 19:59:11 GMT', 'Content-Type': 'text/html;charset=utf-8', 'Transfer-Encoding': 'chunked', 'Connection': 'keep-alive', 'X-Xss-Protection': '1; mode=block', 'Expires': 'Mon, 09 Sep 2013 18:48:21 GMT', 'X-Ua-Compatible': 'IE=edge', 'Content-Language': 'en-us', 'Cache-Control': 'max-age=0, must-revalidate, private', 'X-Cache-Operation': 'plone.app.caching.noCaching', 'X-Theme-Disabled': '', 'X-Cache-Rule': 'plone.content.folderView', 'X-Frame-Options': 'SAMEORIGIN, SAMEORIGIN', 'X-Content-Type-Options': 'nosniff', 'Strict-Transport-Security': 'max-age=31536000; includeSubDomains; preload', 'Last-Modified': 'Thu, 07 Sep 2023 19:20:47 GMT', 'CF-Cache-Status': 'HIT', 'Age': '750', 'Vary': 'Accept-Encoding', 'Set-Cookie': '_cfuvid=sTnoRb8Q13H.AiQAxIcnVazc2dBg6lzvQTUVezgDfks-1694116751037-0-604800000; path=/; domain=.fbi.gov; HttpOnly; Secure; SameSite=None', 'Server': 'cloudflare', 'CF-RAY': '803187dddb0e015b-CDG', 'Content-Encoding': 'gzip', 'alt-svc': 'h3=\":443\"; ma=86400'}"
      ]
     },
     "execution_count": 3,
     "metadata": {},
     "output_type": "execute_result"
    }
   ],
   "source": [
    "r.headers"
   ]
  },
  {
   "cell_type": "code",
   "execution_count": 4,
   "id": "b47e4028",
   "metadata": {},
   "outputs": [
    {
     "data": {
      "text/plain": [
       "<RequestsCookieJar[Cookie(version=0, name='_cfuvid', value='sTnoRb8Q13H.AiQAxIcnVazc2dBg6lzvQTUVezgDfks-1694116751037-0-604800000', port=None, port_specified=False, domain='.fbi.gov', domain_specified=True, domain_initial_dot=True, path='/', path_specified=True, secure=True, expires=None, discard=True, comment=None, comment_url=None, rest={'HttpOnly': None, 'SameSite': 'None'}, rfc2109=False)]>"
      ]
     },
     "execution_count": 4,
     "metadata": {},
     "output_type": "execute_result"
    }
   ],
   "source": [
    "r.cookies"
   ]
  },
  {
   "cell_type": "code",
   "execution_count": 5,
   "id": "d19d63eb",
   "metadata": {},
   "outputs": [],
   "source": [
    "soup = BeautifulSoup(r.content, 'html.parser')"
   ]
  },
  {
   "cell_type": "code",
   "execution_count": 6,
   "id": "ea68ba66",
   "metadata": {},
   "outputs": [
    {
     "data": {
      "text/plain": [
       "[<h3 class=\"title\">\n",
       " <a href=\"https://www.fbi.gov/wanted/topten/wilver-villegas-palomino\">WILVER VILLEGAS-PALOMINO</a>\n",
       " </h3>, <h3 class=\"title\">\n",
       " <a href=\"https://www.fbi.gov/wanted/topten/alejandro-castillo\">ALEJANDRO ROSALES CASTILLO</a>\n",
       " </h3>, <h3 class=\"title\">\n",
       " <a href=\"https://www.fbi.gov/wanted/topten/ruja-ignatova\">RUJA IGNATOVA</a>\n",
       " </h3>, <h3 class=\"title\">\n",
       " <a href=\"https://www.fbi.gov/wanted/topten/donald-eugene-fields-ii\">DONALD EUGENE FIELDS II</a>\n",
       " </h3>, <h3 class=\"title\">\n",
       " <a href=\"https://www.fbi.gov/wanted/topten/alexis-flores\">ALEXIS FLORES</a>\n",
       " </h3>, <h3 class=\"title\">\n",
       " <a href=\"https://www.fbi.gov/wanted/topten/arnoldo-jimenez\">ARNOLDO JIMENEZ</a>\n",
       " </h3>, <h3 class=\"title\">\n",
       " <a href=\"https://www.fbi.gov/wanted/topten/omar-alexander-cardenas\">OMAR ALEXANDER CARDENAS</a>\n",
       " </h3>, <h3 class=\"title\">\n",
       " <a href=\"https://www.fbi.gov/wanted/topten/yulan-adonay-archaga-carias\">YULAN ADONAY ARCHAGA CARIAS</a>\n",
       " </h3>, <h3 class=\"title\">\n",
       " <a href=\"https://www.fbi.gov/wanted/topten/bhadreshkumar-chetanbhai-patel\">BHADRESHKUMAR CHETANBHAI PATEL</a>\n",
       " </h3>, <h3 class=\"title\">\n",
       " <a href=\"https://www.fbi.gov/wanted/topten/jose-rodolfo-villarreal-hernandez\">JOSE RODOLFO VILLARREAL-HERNANDEZ</a>\n",
       " </h3>]"
      ]
     },
     "execution_count": 6,
     "metadata": {},
     "output_type": "execute_result"
    }
   ],
   "source": [
    "wanted = soup.find_all('h3', attrs={'class': \"title\"})\n",
    "wanted"
   ]
  },
  {
   "cell_type": "code",
   "execution_count": 7,
   "id": "b5572789",
   "metadata": {},
   "outputs": [
    {
     "data": {
      "text/plain": [
       "['WILVER VILLEGAS-PALOMINO',\n",
       " 'ALEJANDRO ROSALES CASTILLO',\n",
       " 'RUJA IGNATOVA',\n",
       " 'DONALD EUGENE FIELDS II',\n",
       " 'ALEXIS FLORES',\n",
       " 'ARNOLDO JIMENEZ',\n",
       " 'OMAR ALEXANDER CARDENAS',\n",
       " 'YULAN ADONAY ARCHAGA CARIAS',\n",
       " 'BHADRESHKUMAR CHETANBHAI PATEL',\n",
       " 'JOSE RODOLFO VILLARREAL-HERNANDEZ']"
      ]
     },
     "execution_count": 7,
     "metadata": {},
     "output_type": "execute_result"
    }
   ],
   "source": [
    "wanted_name = [name.find(\"a\").get_text(strip=True) for name in wanted]\n",
    "wanted_name"
   ]
  },
  {
   "cell_type": "code",
   "execution_count": 8,
   "id": "3be06bfe",
   "metadata": {},
   "outputs": [
    {
     "name": "stdout",
     "output_type": "stream",
     "text": [
      "https://www.fbi.gov/wanted/topten/wilver-villegas-palomino\n",
      "https://www.fbi.gov/wanted/topten/alejandro-castillo\n",
      "https://www.fbi.gov/wanted/topten/ruja-ignatova\n",
      "https://www.fbi.gov/wanted/topten/donald-eugene-fields-ii\n",
      "https://www.fbi.gov/wanted/topten/alexis-flores\n",
      "https://www.fbi.gov/wanted/topten/arnoldo-jimenez\n",
      "https://www.fbi.gov/wanted/topten/omar-alexander-cardenas\n",
      "https://www.fbi.gov/wanted/topten/yulan-adonay-archaga-carias\n",
      "https://www.fbi.gov/wanted/topten/bhadreshkumar-chetanbhai-patel\n",
      "https://www.fbi.gov/wanted/topten/jose-rodolfo-villarreal-hernandez\n"
     ]
    }
   ],
   "source": [
    "def wanted_links():\n",
    "    for name in wanted:\n",
    "        print(name.find('a').get('href'))\n",
    "\n",
    "wanted_links()"
   ]
  },
  {
   "cell_type": "code",
   "execution_count": 9,
   "id": "68f6bf2c",
   "metadata": {},
   "outputs": [
    {
     "name": "stdout",
     "output_type": "stream",
     "text": [
      "[{'Date(s) of Birth Used': 'October 21, 1981', 'Place of Birth': 'Curumani, Colombia', 'Hair': 'Black', 'Eyes': 'Brown', 'Height': 'Approximately 5\\'7\" to 5\\'9\"', 'Weight': 'Approximately 190 pounds', 'Sex': 'Male', 'Race': 'White (Hispanic)', 'Nationality': 'Colombian', 'Languages': 'Spanish'}, {'Date(s) of Birth Used': 'November 26, 1998', 'Place of Birth': 'Arizona', 'Hair': 'Black', 'Eyes': 'Brown', 'Height': '5\\'6\"', 'Weight': 'Approximately 180 to 190 pounds', 'Sex': 'Male', 'Race': 'White (Hispanic)', 'Nationality': 'American', 'Languages': 'English, Spanish'}, {'Date(s) of Birth Used': 'May 30, 1980', 'Place of Birth': 'Bulgaria', 'Hair': 'Dark Brown to Black', 'Eyes': 'Brown', 'Sex': 'Female', 'Race': 'White', 'Languages': 'English, German, Bulgarian'}, {'Date(s) of Birth Used': 'July 9, 1964', 'Place of Birth': 'Kentucky', 'Hair': 'Brown', 'Eyes': 'Hazel', 'Height': '6\\'0\" to 6\\'4\"', 'Weight': '219 to 235 pounds', 'Sex': 'Male', 'Race': 'White', 'Occupation': 'Tree trimmer, Former resale shop owner, Independently sold used cars', 'Scars and Marks': 'Fields II has a scar on his chest, his groin, his left calf, on both legs and both knees. He also has a tribal print tattoo on his right shoulder.'}, {'Date(s) of Birth Used': 'July 18, 1975, July 18, 1982, September 15, 1980, July 17, 1982', 'Place of Birth': 'Honduras', 'Hair': 'Black', 'Eyes': 'Brown', 'Height': '5\\'4\"', 'Weight': '130 to 140 pounds', 'Build': 'Slim', 'Complexion': 'Light', 'Sex': 'Male', 'Race': 'White (Hispanic)', 'Occupation': 'Handyman', 'Nationality': 'Honduran', 'Scars and Marks': 'Flores has scars on his forehead and right cheek.'}, {'Date(s) of Birth Used': 'February 19, 1982', 'Place of Birth': 'Texas', 'Hair': 'Black', 'Eyes': 'Brown', 'Height': '6\\'0\"', 'Weight': '200 to 225 pounds', 'Sex': 'Male', 'Race': 'White (Hispanic)', 'Nationality': 'American'}, {'Date(s) of Birth Used': 'March 23, 1995', 'Place of Birth': 'California', 'Hair': 'Dark Brown', 'Eyes': 'Brown', 'Height': 'Approximately 5\\'6\" to 5\\'7\"', 'Weight': 'Approximately 240 to 300 pounds', 'Sex': 'Male', 'Race': 'White (Hispanic)', 'Nationality': 'American'}, {'Date(s) of Birth Used': 'February 13, 1982, January 21, 1982', 'Place of Birth': 'San Pedro Sula, Cortes, Honduras', 'Hair': 'Black', 'Eyes': 'Brown', 'Height': '5\\'5\"', 'Weight': '160 pounds', 'Sex': 'Male', 'Race': 'White (Hispanic)', 'Nationality': 'Honduran'}, {'Date(s) of Birth Used': 'May 15, 1990', 'Place of Birth': 'Kantrodi Ta Viramgam, Gujarat, India', 'Hair': 'Brown', 'Eyes': 'Brown', 'Height': '5\\'9\"', 'Weight': '165 pounds', 'Sex': 'Male', 'Occupation': 'Employee of donut shop', 'Nationality': 'Indian'}, {'Date(s) of Birth Used': 'January 16, 1978', 'Place of Birth': 'Mexico', 'Hair': 'Black', 'Eyes': 'Brown', 'Height': '5\\'4\"', 'Weight': '165 pounds', 'Sex': 'Male', 'Race': 'White (Hispanic)', 'Nationality': 'Mexican', 'Languages': 'Spanish'}]\n"
     ]
    }
   ],
   "source": [
    "def wanted_links():\n",
    "    r = requests.get('https://www.fbi.gov/wanted/topten')\n",
    "    soup = BeautifulSoup(r.content, 'html.parser')\n",
    "    wanted = soup.find_all('h3', attrs={'class': \"title\"})\n",
    "    \n",
    "    links = []\n",
    "    for name in wanted:\n",
    "        link = name.find('a').get('href')\n",
    "        if link.startswith(\"/\"):\n",
    "            link = \"https://www.fbi.gov\" + link\n",
    "        links.append(link)\n",
    "    \n",
    "    return links\n",
    "\n",
    "\n",
    "urls = wanted_links()\n",
    "\n",
    "\n",
    "def scrape_url(url):\n",
    "    response = requests.get(url)\n",
    "    soup = BeautifulSoup(response.content, \"html.parser\")\n",
    "    table_element = soup.find(\"table\", class_=\"table table-striped wanted-person-description\")\n",
    "    \n",
    "    table_data = {}\n",
    "    rows = table_element.find_all(\"tr\")\n",
    "    for row in rows:\n",
    "        columns = row.find_all(\"td\")\n",
    "        if len(columns) == 2:\n",
    "            key = columns[0].text.strip()\n",
    "            value = columns[1].text.strip()\n",
    "            table_data[key] = value\n",
    "            \n",
    "    return table_data\n",
    "\n",
    "\n",
    "all_data_list = []\n",
    "for url in urls:\n",
    "    data = scrape_url(url)\n",
    "    all_data_list.append(data)\n",
    "\n",
    "print(all_data_list)\n",
    "\n"
   ]
  },
  {
   "cell_type": "code",
   "execution_count": 11,
   "id": "1110c170",
   "metadata": {},
   "outputs": [],
   "source": [
    "df = pd.DataFrame.from_dict(all_data_list)"
   ]
  },
  {
   "cell_type": "code",
   "execution_count": 13,
   "id": "78740dc3",
   "metadata": {},
   "outputs": [],
   "source": [
    "df['Name'] = wanted_name"
   ]
  },
  {
   "cell_type": "code",
   "execution_count": 17,
   "id": "73fcfb13",
   "metadata": {},
   "outputs": [
    {
     "data": {
      "text/html": [
       "<div>\n",
       "<style scoped>\n",
       "    .dataframe tbody tr th:only-of-type {\n",
       "        vertical-align: middle;\n",
       "    }\n",
       "\n",
       "    .dataframe tbody tr th {\n",
       "        vertical-align: top;\n",
       "    }\n",
       "\n",
       "    .dataframe thead th {\n",
       "        text-align: right;\n",
       "    }\n",
       "</style>\n",
       "<table border=\"1\" class=\"dataframe\">\n",
       "  <thead>\n",
       "    <tr style=\"text-align: right;\">\n",
       "      <th></th>\n",
       "      <th>Name</th>\n",
       "      <th>Date(s) of Birth Used</th>\n",
       "      <th>Hair</th>\n",
       "      <th>Eyes</th>\n",
       "      <th>Height</th>\n",
       "      <th>Weight</th>\n",
       "      <th>Sex</th>\n",
       "      <th>Race</th>\n",
       "      <th>Nationality</th>\n",
       "      <th>Languages</th>\n",
       "      <th>Occupation</th>\n",
       "      <th>Scars and Marks</th>\n",
       "      <th>Build</th>\n",
       "      <th>Complexion</th>\n",
       "    </tr>\n",
       "  </thead>\n",
       "  <tbody>\n",
       "    <tr>\n",
       "      <th>0</th>\n",
       "      <td>WILVER VILLEGAS-PALOMINO</td>\n",
       "      <td>October 21, 1981</td>\n",
       "      <td>Black</td>\n",
       "      <td>Brown</td>\n",
       "      <td>Approximately 5'7\" to 5'9\"</td>\n",
       "      <td>Approximately 190 pounds</td>\n",
       "      <td>Male</td>\n",
       "      <td>White (Hispanic)</td>\n",
       "      <td>Colombian</td>\n",
       "      <td>Spanish</td>\n",
       "      <td>NaN</td>\n",
       "      <td>NaN</td>\n",
       "      <td>NaN</td>\n",
       "      <td>NaN</td>\n",
       "    </tr>\n",
       "    <tr>\n",
       "      <th>1</th>\n",
       "      <td>ALEJANDRO ROSALES CASTILLO</td>\n",
       "      <td>November 26, 1998</td>\n",
       "      <td>Black</td>\n",
       "      <td>Brown</td>\n",
       "      <td>5'6\"</td>\n",
       "      <td>Approximately 180 to 190 pounds</td>\n",
       "      <td>Male</td>\n",
       "      <td>White (Hispanic)</td>\n",
       "      <td>American</td>\n",
       "      <td>English, Spanish</td>\n",
       "      <td>NaN</td>\n",
       "      <td>NaN</td>\n",
       "      <td>NaN</td>\n",
       "      <td>NaN</td>\n",
       "    </tr>\n",
       "    <tr>\n",
       "      <th>2</th>\n",
       "      <td>RUJA IGNATOVA</td>\n",
       "      <td>May 30, 1980</td>\n",
       "      <td>Dark Brown to Black</td>\n",
       "      <td>Brown</td>\n",
       "      <td>NaN</td>\n",
       "      <td>NaN</td>\n",
       "      <td>Female</td>\n",
       "      <td>White</td>\n",
       "      <td>NaN</td>\n",
       "      <td>English, German, Bulgarian</td>\n",
       "      <td>NaN</td>\n",
       "      <td>NaN</td>\n",
       "      <td>NaN</td>\n",
       "      <td>NaN</td>\n",
       "    </tr>\n",
       "    <tr>\n",
       "      <th>3</th>\n",
       "      <td>DONALD EUGENE FIELDS II</td>\n",
       "      <td>July 9, 1964</td>\n",
       "      <td>Brown</td>\n",
       "      <td>Hazel</td>\n",
       "      <td>6'0\" to 6'4\"</td>\n",
       "      <td>219 to 235 pounds</td>\n",
       "      <td>Male</td>\n",
       "      <td>White</td>\n",
       "      <td>NaN</td>\n",
       "      <td>NaN</td>\n",
       "      <td>Tree trimmer, Former resale shop owner, Indepe...</td>\n",
       "      <td>Fields II has a scar on his chest, his groin, ...</td>\n",
       "      <td>NaN</td>\n",
       "      <td>NaN</td>\n",
       "    </tr>\n",
       "    <tr>\n",
       "      <th>4</th>\n",
       "      <td>ALEXIS FLORES</td>\n",
       "      <td>July 18, 1975, July 18, 1982, September 15, 19...</td>\n",
       "      <td>Black</td>\n",
       "      <td>Brown</td>\n",
       "      <td>5'4\"</td>\n",
       "      <td>130 to 140 pounds</td>\n",
       "      <td>Male</td>\n",
       "      <td>White (Hispanic)</td>\n",
       "      <td>Honduran</td>\n",
       "      <td>NaN</td>\n",
       "      <td>Handyman</td>\n",
       "      <td>Flores has scars on his forehead and right cheek.</td>\n",
       "      <td>Slim</td>\n",
       "      <td>Light</td>\n",
       "    </tr>\n",
       "    <tr>\n",
       "      <th>5</th>\n",
       "      <td>ARNOLDO JIMENEZ</td>\n",
       "      <td>February 19, 1982</td>\n",
       "      <td>Black</td>\n",
       "      <td>Brown</td>\n",
       "      <td>6'0\"</td>\n",
       "      <td>200 to 225 pounds</td>\n",
       "      <td>Male</td>\n",
       "      <td>White (Hispanic)</td>\n",
       "      <td>American</td>\n",
       "      <td>NaN</td>\n",
       "      <td>NaN</td>\n",
       "      <td>NaN</td>\n",
       "      <td>NaN</td>\n",
       "      <td>NaN</td>\n",
       "    </tr>\n",
       "    <tr>\n",
       "      <th>6</th>\n",
       "      <td>OMAR ALEXANDER CARDENAS</td>\n",
       "      <td>March 23, 1995</td>\n",
       "      <td>Dark Brown</td>\n",
       "      <td>Brown</td>\n",
       "      <td>Approximately 5'6\" to 5'7\"</td>\n",
       "      <td>Approximately 240 to 300 pounds</td>\n",
       "      <td>Male</td>\n",
       "      <td>White (Hispanic)</td>\n",
       "      <td>American</td>\n",
       "      <td>NaN</td>\n",
       "      <td>NaN</td>\n",
       "      <td>NaN</td>\n",
       "      <td>NaN</td>\n",
       "      <td>NaN</td>\n",
       "    </tr>\n",
       "    <tr>\n",
       "      <th>7</th>\n",
       "      <td>YULAN ADONAY ARCHAGA CARIAS</td>\n",
       "      <td>February 13, 1982, January 21, 1982</td>\n",
       "      <td>Black</td>\n",
       "      <td>Brown</td>\n",
       "      <td>5'5\"</td>\n",
       "      <td>160 pounds</td>\n",
       "      <td>Male</td>\n",
       "      <td>White (Hispanic)</td>\n",
       "      <td>Honduran</td>\n",
       "      <td>NaN</td>\n",
       "      <td>NaN</td>\n",
       "      <td>NaN</td>\n",
       "      <td>NaN</td>\n",
       "      <td>NaN</td>\n",
       "    </tr>\n",
       "    <tr>\n",
       "      <th>8</th>\n",
       "      <td>BHADRESHKUMAR CHETANBHAI PATEL</td>\n",
       "      <td>May 15, 1990</td>\n",
       "      <td>Brown</td>\n",
       "      <td>Brown</td>\n",
       "      <td>5'9\"</td>\n",
       "      <td>165 pounds</td>\n",
       "      <td>Male</td>\n",
       "      <td>NaN</td>\n",
       "      <td>Indian</td>\n",
       "      <td>NaN</td>\n",
       "      <td>Employee of donut shop</td>\n",
       "      <td>NaN</td>\n",
       "      <td>NaN</td>\n",
       "      <td>NaN</td>\n",
       "    </tr>\n",
       "    <tr>\n",
       "      <th>9</th>\n",
       "      <td>JOSE RODOLFO VILLARREAL-HERNANDEZ</td>\n",
       "      <td>January 16, 1978</td>\n",
       "      <td>Black</td>\n",
       "      <td>Brown</td>\n",
       "      <td>5'4\"</td>\n",
       "      <td>165 pounds</td>\n",
       "      <td>Male</td>\n",
       "      <td>White (Hispanic)</td>\n",
       "      <td>Mexican</td>\n",
       "      <td>Spanish</td>\n",
       "      <td>NaN</td>\n",
       "      <td>NaN</td>\n",
       "      <td>NaN</td>\n",
       "      <td>NaN</td>\n",
       "    </tr>\n",
       "  </tbody>\n",
       "</table>\n",
       "</div>"
      ],
      "text/plain": [
       "                                Name  \\\n",
       "0           WILVER VILLEGAS-PALOMINO   \n",
       "1         ALEJANDRO ROSALES CASTILLO   \n",
       "2                      RUJA IGNATOVA   \n",
       "3            DONALD EUGENE FIELDS II   \n",
       "4                      ALEXIS FLORES   \n",
       "5                    ARNOLDO JIMENEZ   \n",
       "6            OMAR ALEXANDER CARDENAS   \n",
       "7        YULAN ADONAY ARCHAGA CARIAS   \n",
       "8     BHADRESHKUMAR CHETANBHAI PATEL   \n",
       "9  JOSE RODOLFO VILLARREAL-HERNANDEZ   \n",
       "\n",
       "                               Date(s) of Birth Used                 Hair  \\\n",
       "0                                   October 21, 1981                Black   \n",
       "1                                  November 26, 1998                Black   \n",
       "2                                       May 30, 1980  Dark Brown to Black   \n",
       "3                                       July 9, 1964                Brown   \n",
       "4  July 18, 1975, July 18, 1982, September 15, 19...                Black   \n",
       "5                                  February 19, 1982                Black   \n",
       "6                                     March 23, 1995           Dark Brown   \n",
       "7                February 13, 1982, January 21, 1982                Black   \n",
       "8                                       May 15, 1990                Brown   \n",
       "9                                   January 16, 1978                Black   \n",
       "\n",
       "    Eyes                      Height                           Weight     Sex  \\\n",
       "0  Brown  Approximately 5'7\" to 5'9\"         Approximately 190 pounds    Male   \n",
       "1  Brown                        5'6\"  Approximately 180 to 190 pounds    Male   \n",
       "2  Brown                         NaN                              NaN  Female   \n",
       "3  Hazel                6'0\" to 6'4\"                219 to 235 pounds    Male   \n",
       "4  Brown                        5'4\"                130 to 140 pounds    Male   \n",
       "5  Brown                        6'0\"                200 to 225 pounds    Male   \n",
       "6  Brown  Approximately 5'6\" to 5'7\"  Approximately 240 to 300 pounds    Male   \n",
       "7  Brown                        5'5\"                       160 pounds    Male   \n",
       "8  Brown                        5'9\"                       165 pounds    Male   \n",
       "9  Brown                        5'4\"                       165 pounds    Male   \n",
       "\n",
       "               Race Nationality                   Languages  \\\n",
       "0  White (Hispanic)   Colombian                     Spanish   \n",
       "1  White (Hispanic)    American            English, Spanish   \n",
       "2             White         NaN  English, German, Bulgarian   \n",
       "3             White         NaN                         NaN   \n",
       "4  White (Hispanic)    Honduran                         NaN   \n",
       "5  White (Hispanic)    American                         NaN   \n",
       "6  White (Hispanic)    American                         NaN   \n",
       "7  White (Hispanic)    Honduran                         NaN   \n",
       "8               NaN      Indian                         NaN   \n",
       "9  White (Hispanic)     Mexican                     Spanish   \n",
       "\n",
       "                                          Occupation  \\\n",
       "0                                                NaN   \n",
       "1                                                NaN   \n",
       "2                                                NaN   \n",
       "3  Tree trimmer, Former resale shop owner, Indepe...   \n",
       "4                                           Handyman   \n",
       "5                                                NaN   \n",
       "6                                                NaN   \n",
       "7                                                NaN   \n",
       "8                             Employee of donut shop   \n",
       "9                                                NaN   \n",
       "\n",
       "                                     Scars and Marks Build Complexion  \n",
       "0                                                NaN   NaN        NaN  \n",
       "1                                                NaN   NaN        NaN  \n",
       "2                                                NaN   NaN        NaN  \n",
       "3  Fields II has a scar on his chest, his groin, ...   NaN        NaN  \n",
       "4  Flores has scars on his forehead and right cheek.  Slim      Light  \n",
       "5                                                NaN   NaN        NaN  \n",
       "6                                                NaN   NaN        NaN  \n",
       "7                                                NaN   NaN        NaN  \n",
       "8                                                NaN   NaN        NaN  \n",
       "9                                                NaN   NaN        NaN  "
      ]
     },
     "execution_count": 17,
     "metadata": {},
     "output_type": "execute_result"
    }
   ],
   "source": [
    "df = df[['Name','Date(s) of Birth Used','Hair','Eyes','Height','Weight','Sex','Race','Nationality','Languages','Occupation','Scars and Marks','Build','Complexion']]\n",
    "df\n"
   ]
  },
  {
   "cell_type": "code",
   "execution_count": null,
   "id": "78f5249f",
   "metadata": {},
   "outputs": [],
   "source": []
  }
 ],
 "metadata": {
  "kernelspec": {
   "display_name": "Python 3",
   "language": "python",
   "name": "python3"
  },
  "language_info": {
   "codemirror_mode": {
    "name": "ipython",
    "version": 3
   },
   "file_extension": ".py",
   "mimetype": "text/x-python",
   "name": "python",
   "nbconvert_exporter": "python",
   "pygments_lexer": "ipython3",
   "version": "3.7.4"
  }
 },
 "nbformat": 4,
 "nbformat_minor": 5
}
